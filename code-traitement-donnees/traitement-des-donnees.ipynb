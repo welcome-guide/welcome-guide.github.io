{
 "cells": [
  {
   "cell_type": "markdown",
   "metadata": {},
   "source": [
    "Ce document contient les étapes de traitement des données du guide précarité du Codelico (Conseil Départemental du Bas-Rhin, 67) "
   ]
  },
  {
   "cell_type": "markdown",
   "metadata": {},
   "source": [
    "### Données originales\n",
    "\n",
    "Les données originales du Codelico ont été téléchargées du site du Conseil Départemental.\n",
    "\n",
    "Ces données sont des données publiques et tombent donc sous la clause Open Data de la Loi pour une République Numérique.\n",
    "\n",
    "Ces données sont répertoriées sur la page https://welcome-guide.eu/guide-precarite-codelico/index.html"
   ]
  },
  {
   "cell_type": "markdown",
   "metadata": {},
   "source": [
    "### Extraction des données \n",
    "\n",
    "Les données originales sont au format PDF. Leur extraction de manière automatique n'est pas aisée.\n",
    "\n",
    "Ces données ont donc été extraites à la main, via environ 8 heures de travail divisé entre deux personnes (5/3).\n",
    "\n",
    "Les données ont été entrées dans un tableur collaboratif (hébergé par l'association Framasoft) accessible à l'adresse https://lite.framacalc.org/OKiS1cuixs-codelico"
   ]
  },
  {
   "cell_type": "markdown",
   "metadata": {},
   "source": [
    "La version finale de ce tableur collaboratif (25 juin 2019) est stockée dans ici : https://welcome-guide.eu/donnees-welcome-guide/OKiS1cuixs-codelico.csv\n",
    "\n",
    "Cette version pourra être mise à jour avec les ajouts de certaines métadonnées (comme l'affichage dans le flyer ou dans la version travailleurs sociaux)"
   ]
  },
  {
   "cell_type": "markdown",
   "metadata": {},
   "source": [
    "#### Téléchargement de la dernière version à jour des données extraites"
   ]
  },
  {
   "cell_type": "code",
   "execution_count": null,
   "metadata": {},
   "outputs": [],
   "source": [
    "!wget https://lite.framacalc.org/OKiS1cuixs-codelico.csv -O ../donnees-welcome-guide/OKiS1cuixs-codelico.csv"
   ]
  },
  {
   "cell_type": "markdown",
   "metadata": {},
   "source": [
    "### Traitement des données\n",
    "\n",
    "Les données entrées dans le tableur collaboratif contiennent quelques lignes qui n'ont servi qu'à l'étape d'extraction des données."
   ]
  },
  {
   "cell_type": "markdown",
   "metadata": {},
   "source": [
    "#### Organisations dupliquées\n",
    "\n",
    "De nombreuses organisations proposent de plusieurs services, et cela va demander de traiter les données de manière spécifique.\n",
    "\n",
    "Pour pouvoir travailler sur les données des organisations qui ne proposent qu'un seul service, le plus simple est de les filtrer."
   ]
  },
  {
   "cell_type": "code",
   "execution_count": null,
   "metadata": {},
   "outputs": [],
   "source": [
    "!cat ../donnees-welcome-guide/OKiS1cuixs-codelico.csv |\\\n",
    "                    awk -F ',' '{print $1}' |\\\n",
    "                    sed 's_^\" *__;s_ *\"$__' |\\\n",
    "                    sort | uniq -d > ../donnees-welcome-guide/organisations-dupliquees.txt"
   ]
  },
  {
   "cell_type": "code",
   "execution_count": null,
   "metadata": {},
   "outputs": [],
   "source": [
    "import pandas"
   ]
  },
  {
   "cell_type": "code",
   "execution_count": null,
   "metadata": {},
   "outputs": [],
   "source": [
    "organisations_dupliquees = pandas.read_csv(\"../donnees-welcome-guide/organisations-dupliquees.txt\")"
   ]
  },
  {
   "cell_type": "code",
   "execution_count": null,
   "metadata": {},
   "outputs": [],
   "source": [
    "organisations_dupliquees.head(3)"
   ]
  },
  {
   "cell_type": "markdown",
   "metadata": {},
   "source": [
    "### Nettoyage des noms des entités\n",
    "\n",
    "Certains noms d'organisation sont présents avec des variations (présence d'espaces, présence ou absence d'accents, etc).\n",
    "\n",
    "Cette étape vise à leur harmonisation"
   ]
  },
  {
   "cell_type": "code",
   "execution_count": null,
   "metadata": {},
   "outputs": [],
   "source": [
    "tableau_extrait_codelico_no_header = pandas.read_csv(\"../donnees-welcome-guide/OKiS1cuixs-codelico.csv\",\n",
    "                                                      skiprows=1)"
   ]
  },
  {
   "cell_type": "code",
   "execution_count": null,
   "metadata": {},
   "outputs": [],
   "source": [
    "tableau_extrait_codelico_no_index = tableau_extrait_codelico_no_header.rename(columns=tableau_extrait_codelico_no_header.loc[1]).drop([0,1])"
   ]
  },
  {
   "cell_type": "markdown",
   "metadata": {},
   "source": [
    "Certains noms commencent par une espace"
   ]
  },
  {
   "cell_type": "code",
   "execution_count": null,
   "metadata": {},
   "outputs": [],
   "source": [
    "regexp_espace_precedant_nom = r\"^ +\"\n",
    "masque_espace_precedant_nom = tableau_extrait_codelico_no_index.Nom.str.match(regexp_espace_precedant_nom, na=False)\n",
    "tableau_extrait_codelico_no_index[masque_espace_precedant_nom]"
   ]
  },
  {
   "cell_type": "code",
   "execution_count": null,
   "metadata": {},
   "outputs": [],
   "source": [
    "tableau_extrait_codelico_no_index.Nom = tableau_extrait_codelico_no_index.Nom.str.replace(regexp_espace_precedant_nom, \"\")"
   ]
  },
  {
   "cell_type": "code",
   "execution_count": null,
   "metadata": {},
   "outputs": [],
   "source": [
    "tableau_extrait_codelico_no_index.head(4)"
   ]
  },
  {
   "cell_type": "code",
   "execution_count": null,
   "metadata": {},
   "outputs": [],
   "source": [
    "\n",
    "\n",
    "masque_espace_precedant_nom = tableau_extrait_codelico_no_index.Nom.str.match(regexp_espace_precedant_nom, na=False)\n",
    "tableau_extrait_codelico_no_index[masque_espace_precedant_nom]"
   ]
  },
  {
   "cell_type": "code",
   "execution_count": null,
   "metadata": {},
   "outputs": [],
   "source": []
  },
  {
   "cell_type": "code",
   "execution_count": null,
   "metadata": {},
   "outputs": [],
   "source": []
  },
  {
   "cell_type": "code",
   "execution_count": null,
   "metadata": {},
   "outputs": [],
   "source": [
    "masque_espace_suivant_nom = tableau_extrait_codelico_no_index.Nom.str.match(r\" $\", na=False)\n",
    "tableau_extrait_codelico_no_index[masque_espace_suivant_nom]"
   ]
  },
  {
   "cell_type": "code",
   "execution_count": null,
   "metadata": {},
   "outputs": [],
   "source": []
  },
  {
   "cell_type": "markdown",
   "metadata": {},
   "source": [
    "### Il y a des lignes sans nom d'organisation"
   ]
  },
  {
   "cell_type": "code",
   "execution_count": null,
   "metadata": {},
   "outputs": [],
   "source": [
    "masque_organisation_sans_nom = tableau_extrait_codelico_no_index.Nom.str.match(\"NaN\") != False\n",
    "organisations_sans_nom = tableau_extrait_codelico_no_index[masque_organisation_sans_nom]"
   ]
  },
  {
   "cell_type": "code",
   "execution_count": null,
   "metadata": {},
   "outputs": [],
   "source": [
    "organisations_sans_nom"
   ]
  },
  {
   "cell_type": "code",
   "execution_count": null,
   "metadata": {},
   "outputs": [],
   "source": []
  },
  {
   "cell_type": "code",
   "execution_count": null,
   "metadata": {},
   "outputs": [],
   "source": []
  },
  {
   "cell_type": "code",
   "execution_count": null,
   "metadata": {},
   "outputs": [],
   "source": []
  },
  {
   "cell_type": "code",
   "execution_count": null,
   "metadata": {},
   "outputs": [],
   "source": []
  },
  {
   "cell_type": "code",
   "execution_count": null,
   "metadata": {},
   "outputs": [],
   "source": [
    "organisations_dupliquees = tableau_extrait_codelico_no_index[tableau_extrait_codelico_no_index.Nom.duplicated()]"
   ]
  },
  {
   "cell_type": "code",
   "execution_count": null,
   "metadata": {},
   "outputs": [],
   "source": [
    "len(organisations_dupliquees)"
   ]
  },
  {
   "cell_type": "code",
   "execution_count": null,
   "metadata": {},
   "outputs": [],
   "source": [
    "organisations_dupliquees.Nom.sort_values"
   ]
  },
  {
   "cell_type": "code",
   "execution_count": null,
   "metadata": {},
   "outputs": [],
   "source": []
  },
  {
   "cell_type": "code",
   "execution_count": null,
   "metadata": {},
   "outputs": [],
   "source": [
    "a"
   ]
  },
  {
   "cell_type": "code",
   "execution_count": null,
   "metadata": {},
   "outputs": [],
   "source": []
  },
  {
   "cell_type": "code",
   "execution_count": null,
   "metadata": {},
   "outputs": [],
   "source": []
  },
  {
   "cell_type": "code",
   "execution_count": null,
   "metadata": {},
   "outputs": [],
   "source": []
  },
  {
   "cell_type": "code",
   "execution_count": null,
   "metadata": {},
   "outputs": [],
   "source": []
  },
  {
   "cell_type": "code",
   "execution_count": null,
   "metadata": {},
   "outputs": [],
   "source": []
  },
  {
   "cell_type": "code",
   "execution_count": null,
   "metadata": {},
   "outputs": [],
   "source": []
  },
  {
   "cell_type": "code",
   "execution_count": null,
   "metadata": {},
   "outputs": [],
   "source": []
  },
  {
   "cell_type": "code",
   "execution_count": null,
   "metadata": {},
   "outputs": [],
   "source": []
  },
  {
   "cell_type": "code",
   "execution_count": null,
   "metadata": {},
   "outputs": [],
   "source": []
  },
  {
   "cell_type": "code",
   "execution_count": null,
   "metadata": {},
   "outputs": [],
   "source": []
  },
  {
   "cell_type": "code",
   "execution_count": null,
   "metadata": {},
   "outputs": [],
   "source": []
  },
  {
   "cell_type": "code",
   "execution_count": null,
   "metadata": {},
   "outputs": [],
   "source": []
  },
  {
   "cell_type": "markdown",
   "metadata": {},
   "source": [
    "### Set index"
   ]
  },
  {
   "cell_type": "code",
   "execution_count": null,
   "metadata": {},
   "outputs": [],
   "source": [
    "tableau_extrait_codelico = tableau_extrait_codelico_no_index.set_index([\"Nom\"])"
   ]
  },
  {
   "cell_type": "code",
   "execution_count": null,
   "metadata": {},
   "outputs": [],
   "source": []
  },
  {
   "cell_type": "code",
   "execution_count": null,
   "metadata": {},
   "outputs": [],
   "source": []
  },
  {
   "cell_type": "code",
   "execution_count": null,
   "metadata": {},
   "outputs": [],
   "source": []
  },
  {
   "cell_type": "code",
   "execution_count": null,
   "metadata": {},
   "outputs": [],
   "source": []
  },
  {
   "cell_type": "code",
   "execution_count": null,
   "metadata": {},
   "outputs": [],
   "source": []
  },
  {
   "cell_type": "code",
   "execution_count": null,
   "metadata": {},
   "outputs": [],
   "source": []
  },
  {
   "cell_type": "code",
   "execution_count": null,
   "metadata": {},
   "outputs": [],
   "source": []
  },
  {
   "cell_type": "code",
   "execution_count": null,
   "metadata": {},
   "outputs": [],
   "source": []
  },
  {
   "cell_type": "code",
   "execution_count": null,
   "metadata": {},
   "outputs": [],
   "source": []
  },
  {
   "cell_type": "code",
   "execution_count": null,
   "metadata": {},
   "outputs": [],
   "source": []
  },
  {
   "cell_type": "markdown",
   "metadata": {},
   "source": [
    "## tag:flyer\n",
    "\n"
   ]
  },
  {
   "cell_type": "code",
   "execution_count": null,
   "metadata": {},
   "outputs": [],
   "source": []
  },
  {
   "cell_type": "markdown",
   "metadata": {},
   "source": [
    "## Toujours à faire\n",
    "\n",
    "- Ces données ne sont toutefois pas disponibles sur un portail Open Data d'une administration"
   ]
  }
 ],
 "metadata": {
  "kernelspec": {
   "display_name": "Python 3",
   "language": "python",
   "name": "python3"
  },
  "language_info": {
   "codemirror_mode": {
    "name": "ipython",
    "version": 3
   },
   "file_extension": ".py",
   "mimetype": "text/x-python",
   "name": "python",
   "nbconvert_exporter": "python",
   "pygments_lexer": "ipython3"
  }
 },
 "nbformat": 4,
 "nbformat_minor": 2
}
