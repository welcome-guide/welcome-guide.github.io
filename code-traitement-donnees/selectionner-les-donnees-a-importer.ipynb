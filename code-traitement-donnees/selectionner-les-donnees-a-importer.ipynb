{
 "cells": [
  {
   "cell_type": "code",
   "execution_count": null,
   "metadata": {},
   "outputs": [],
   "source": [
    "import pandas\n",
    "import re"
   ]
  },
  {
   "cell_type": "code",
   "execution_count": null,
   "metadata": {},
   "outputs": [],
   "source": [
    "tableau_complet = pandas.read_csv(\"../donnees-welcome-guide/OKiS1cuixs-codelico.csv\")\n",
    "tableau_complet[\"Code postal\"] = tableau_complet[\"Code postal\"].astype(\"object\")"
   ]
  },
  {
   "cell_type": "code",
   "execution_count": null,
   "metadata": {},
   "outputs": [],
   "source": [
    "colonne_ordre = [\"Nom\", \"adresse\"]"
   ]
  },
  {
   "cell_type": "code",
   "execution_count": null,
   "metadata": {},
   "outputs": [],
   "source": [
    "tableau_complet_ordonne = tableau_complet.sort_values(colonne_ordre)"
   ]
  },
  {
   "cell_type": "code",
   "execution_count": null,
   "metadata": {},
   "outputs": [],
   "source": [
    "tableau_complet_ordonne.to_csv(\"../donnees-welcome-guide/ordonnees.csv\")"
   ]
  },
  {
   "cell_type": "markdown",
   "metadata": {},
   "source": [
    "## Tableau des organisations et adresses"
   ]
  },
  {
   "cell_type": "code",
   "execution_count": null,
   "metadata": {},
   "outputs": [],
   "source": [
    "tableau_complet_ordonne.columns"
   ]
  },
  {
   "cell_type": "markdown",
   "metadata": {},
   "source": [
    "Sélection des colonnes correspondant aux orgas sans les services (sans \"Texte complémentaire Codelico\")"
   ]
  },
  {
   "cell_type": "code",
   "execution_count": null,
   "metadata": {},
   "outputs": [],
   "source": [
    "tableau_organisations_colonnes = tableau_complet_ordonne[['Nom', 'adresse', 'Code postal', 'Ville', 'Téléphone', 'Email',\n",
    "       'Site web', 'Texte complémentaire Codelico', 'Liste de catégories', 'Type ','Pays', 'urlImg']]"
   ]
  },
  {
   "cell_type": "markdown",
   "metadata": {},
   "source": [
    "### Sélection des organisations dupliquées"
   ]
  },
  {
   "cell_type": "markdown",
   "metadata": {},
   "source": [
    "Pour chaque organisation dupliquée (même nom, même adresse), stocker les infos et fusionner la liste de catégories et fusionner les services."
   ]
  },
  {
   "cell_type": "markdown",
   "metadata": {},
   "source": [
    "Obtention de la liste des organisations dupliquées"
   ]
  },
  {
   "cell_type": "code",
   "execution_count": null,
   "metadata": {},
   "outputs": [],
   "source": [
    "masque_orga_dupliquee = tableau_organisations_colonnes.duplicated([\"Nom\", \"adresse\"], keep=\"first\")\n",
    "nom_organisations_dupliquees = tableau_organisations_colonnes[masque_orga_dupliquee].Nom"
   ]
  },
  {
   "cell_type": "markdown",
   "metadata": {},
   "source": [
    "Concaténation des services dans une seule cellule (idem pour les catégories)."
   ]
  },
  {
   "cell_type": "code",
   "execution_count": null,
   "metadata": {},
   "outputs": [],
   "source": [
    "valeurs_pour_orgas_dedupliquees = pandas.DataFrame({}, columns=tableau_complet.columns)\n",
    "\n",
    "liste_d_index_dupliques_et_geres = []\n",
    "\n",
    "for organisation in nom_organisations_dupliquees:\n",
    "    \n",
    "    # Sélection des lignes correspondant à une seule organisation (dont on sait qu'elle est dupliquée)\n",
    "    masque_organisation_est_dupliquee = tableau_organisations_colonnes.Nom == organisation\n",
    "    tableau_pour_orga_dupliquee = tableau_organisations_colonnes[masque_organisation_est_dupliquee]\n",
    "    \n",
    "    # Conservation en mémoire des lignes qui sont dans le tableau des organisations dupliquées\n",
    "    for index in tableau_pour_orga_dupliquee.index.values:\n",
    "        liste_d_index_dupliques_et_geres.append(index)\n",
    "        \n",
    "\n",
    "    # Concaténation de la liste de services\n",
    "    liste_de_services = []\n",
    "    for service in tableau_pour_orga_dupliquee[\"Texte complémentaire Codelico\"]:                \n",
    "        liste_de_services.append(service + \"\\n\\n\\n\")\n",
    "    \n",
    "    # Concaténation de la liste de catégories\n",
    "    liste_de_categories = []\n",
    "    liste_de_categories_dupliquees = []\n",
    "    for categories in tableau_pour_orga_dupliquee[\"Liste de catégories\"]:\n",
    "        liste_de_categories_pour_cette_orga_a_nettoyer = categories.split(\", \")\n",
    "        \n",
    "        liste_de_categories_dupliquees_pour_cette_orga = []\n",
    "        for categorie_a_nettoyer in liste_de_categories_pour_cette_orga_a_nettoyer:\n",
    "            \n",
    "            categorie = re.sub(r\" *$\", \"\", re.sub(r\"^ *\", \"\", categorie_a_nettoyer))\n",
    "        \n",
    "            liste_de_categories_dupliquees_pour_cette_orga.append(categorie)\n",
    "              \n",
    "        liste_de_categories_dupliquees += liste_de_categories_dupliquees_pour_cette_orga\n",
    "        \n",
    "    liste_de_categories = list(set(liste_de_categories))\n",
    "    \n",
    "    \n",
    "    \n",
    "    # Pour une orga dupliquée, sélection d'une seule ligne, peu importe les valeurs de service et catégories\n",
    "    valeurs_pour_orga = tableau_pour_orga_dupliquee.head(1)\n",
    "    \n",
    "    # Stockage de la liste des services et de la liste des catégories dans cette ligne\n",
    "    valeurs_pour_orga[\"Liste de catégories\"] = \",\".join(liste_de_categories)\n",
    "    valeurs_pour_orga[\"Texte complémentaire Codelico\"] = \",\".join(liste_de_services)\n",
    "    \n",
    "    # Ajout de la ligne avec les services concaténés et catégories concaténées dans un tableau\n",
    "    liste_de_valeurs_pour_orgas_dedupliquees.append(valeurs_pour_orga)\n",
    "\n",
    "valeurs_pour_orgas_dedupliquees = pandas.concat(liste_de_valeurs_pour_orgas_dedupliquees).drop_duplicates()"
   ]
  },
  {
   "cell_type": "code",
   "execution_count": null,
   "metadata": {},
   "outputs": [],
   "source": [
    "valeurs_pour_orgas_dedupliquees.head()"
   ]
  },
  {
   "cell_type": "markdown",
   "metadata": {},
   "source": [
    "### Sélection des lignes des organisations non dupliquées\n",
    "\n",
    "Il s'agit de toutes les autres lignes que celles dont l'indice a été vu dans la gestion des organisations dupliquées."
   ]
  },
  {
   "cell_type": "code",
   "execution_count": null,
   "metadata": {},
   "outputs": [],
   "source": [
    "valeurs_pour_orgas_non_dupliquees = tableau_organisations_colonnes.drop(liste_d_index_dupliques_et_geres)"
   ]
  },
  {
   "cell_type": "markdown",
   "metadata": {},
   "source": [
    "### Création d'un tableau avec les organisations non dupliquées et les organisations dupliquées"
   ]
  },
  {
   "cell_type": "code",
   "execution_count": null,
   "metadata": {},
   "outputs": [],
   "source": [
    "valeurs_pour_orgas = valeurs_pour_orgas_dedupliquees.append(valeurs_pour_orgas_non_dupliquees)"
   ]
  },
  {
   "cell_type": "code",
   "execution_count": null,
   "metadata": {},
   "outputs": [],
   "source": [
    "valeurs_pour_orgas.head()"
   ]
  },
  {
   "cell_type": "markdown",
   "metadata": {},
   "source": [
    "Ce tableau contient une ligne par organisation, avec les services placés dans une seule cellule. Idem pour les catégories."
   ]
  },
  {
   "cell_type": "code",
   "execution_count": null,
   "metadata": {},
   "outputs": [],
   "source": [
    "valeurs_pour_orgas.to_csv(\"../donnees-welcome-guide/une-organisation-services-concatenes.csv\", sep=\";\", index=False)"
   ]
  },
  {
   "cell_type": "code",
   "execution_count": null,
   "metadata": {},
   "outputs": [],
   "source": []
  },
  {
   "cell_type": "markdown",
   "metadata": {},
   "source": [
    "## Import dans Communecter"
   ]
  },
  {
   "cell_type": "markdown",
   "metadata": {},
   "source": [
    "Import via admin public avec mon compte."
   ]
  },
  {
   "cell_type": "markdown",
   "metadata": {},
   "source": [
    "![](../images/config-admin-public-codelicoconcatene20190622.png)"
   ]
  },
  {
   "cell_type": "code",
   "execution_count": null,
   "metadata": {},
   "outputs": [],
   "source": [
    "clef = \"codelicoconcatene20190622\""
   ]
  },
  {
   "cell_type": "markdown",
   "metadata": {},
   "source": [
    "Dans un premier temps, l'import ne fonctionne pas."
   ]
  }
 ],
 "metadata": {
  "kernelspec": {
   "display_name": "Python 3",
   "language": "python",
   "name": "python3"
  },
  "language_info": {
   "codemirror_mode": {
    "name": "ipython",
    "version": 3
   },
   "file_extension": ".py",
   "mimetype": "text/x-python",
   "name": "python",
   "nbconvert_exporter": "python",
   "pygments_lexer": "ipython3"
  }
 },
 "nbformat": 4,
 "nbformat_minor": 2
}
