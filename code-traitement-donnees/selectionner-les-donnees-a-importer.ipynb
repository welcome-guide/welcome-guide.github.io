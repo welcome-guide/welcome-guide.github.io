{
 "cells": [
  {
   "cell_type": "code",
   "execution_count": null,
   "metadata": {},
   "outputs": [],
   "source": [
    "import pandas\n",
    "import re"
   ]
  },
  {
   "cell_type": "markdown",
   "metadata": {},
   "source": [
    "#### Téléchargement de la dernière version à jour des données extraites"
   ]
  },
  {
   "cell_type": "code",
   "execution_count": null,
   "metadata": {},
   "outputs": [],
   "source": [
    "!wget https://lite.framacalc.org/OKiS1cuixs-codelico.csv -O ../donnees-welcome-guide/OKiS1cuixs-codelico.csv"
   ]
  },
  {
   "cell_type": "markdown",
   "metadata": {},
   "source": [
    "### Chargement des données"
   ]
  },
  {
   "cell_type": "code",
   "execution_count": null,
   "metadata": {},
   "outputs": [],
   "source": [
    "tableau_complet = pandas.read_csv(\"../donnees-welcome-guide/OKiS1cuixs-codelico.csv\")\n",
    "#for columns in tableau_complet.columns:   \n",
    "#    tableau_complet[column] = tableau_complet[column].astype(\"str\")"
   ]
  },
  {
   "cell_type": "code",
   "execution_count": null,
   "metadata": {},
   "outputs": [],
   "source": [
    "colonne_ordre = [\"Nom\", \"adresse\"]"
   ]
  },
  {
   "cell_type": "code",
   "execution_count": null,
   "metadata": {},
   "outputs": [],
   "source": [
    "tableau_complet_ordonne = tableau_complet.sort_values(colonne_ordre)"
   ]
  },
  {
   "cell_type": "markdown",
   "metadata": {},
   "source": [
    "## Tableau des organisations avec services et catégories concaténées dans leurs colonnes respectives"
   ]
  },
  {
   "cell_type": "code",
   "execution_count": null,
   "metadata": {},
   "outputs": [],
   "source": [
    "tableau_complet_ordonne.columns"
   ]
  },
  {
   "cell_type": "markdown",
   "metadata": {},
   "source": [
    "Sélection des colonnes correspondant aux orgas sans les services (sans \"Texte complémentaire Codelico\")"
   ]
  },
  {
   "cell_type": "code",
   "execution_count": null,
   "metadata": {},
   "outputs": [],
   "source": [
    "tableau_organisations_colonnes = tableau_complet_ordonne[['Nom', 'adresse', 'Code postal', 'Ville', 'Téléphone', 'Email',\n",
    "       'Site web', 'Texte complémentaire Codelico', 'Liste de catégories', 'Type','Pays', 'urlImg']]"
   ]
  },
  {
   "cell_type": "markdown",
   "metadata": {},
   "source": [
    "## Nettoyage des cellules"
   ]
  },
  {
   "cell_type": "markdown",
   "metadata": {},
   "source": [
    "### Remplacement des valeurs pour les cellules \"idem\"\n",
    "\n",
    "Réalisé à la main"
   ]
  },
  {
   "cell_type": "markdown",
   "metadata": {},
   "source": [
    "Normalisation des noms de villes"
   ]
  },
  {
   "cell_type": "code",
   "execution_count": null,
   "metadata": {},
   "outputs": [],
   "source": [
    "tableau_organisations_ordonne_clean = pandas.DataFrame(columns=tableau_organisations_colonnes.columns)"
   ]
  },
  {
   "cell_type": "code",
   "execution_count": null,
   "metadata": {},
   "outputs": [],
   "source": [
    "tableau_organisations_colonnes.columns"
   ]
  },
  {
   "cell_type": "code",
   "execution_count": null,
   "metadata": {},
   "outputs": [],
   "source": [
    "for column in tableau_organisations_ordonne_clean.columns:\n",
    "    \n",
    "    # Retire les espaces en début de cellule - Retire les espaces en fin de cellule - Retire les espaces doublés \n",
    "    try:\n",
    "        tableau_organisations_colonnes[column] = tableau_organisations_colonnes[column].str.replace(\"^ +\", \"\")\\\n",
    "                                                                 .str.replace(\" +$\", \"\")\\\n",
    "                                                                 .str.replace(\" +\", \" \")\\\n",
    "                                                                 .str.replace(\";\", \",\") # Remplace tous les \";\" (qui est le séparateur de cellules) par \",\"\n",
    "    except:\n",
    "        print(\"type error\", column)\n",
    "    \n",
    "\n",
    "    if column == 'Ville':\n",
    "        tableau_organisations_colonnes[column] = tableau_organisations_colonnes[column].str.capitalize()\\\n",
    "                                                                                       .str.replace(\" +.edex\", \"\") # Retire la mention cedex\n",
    "            \n",
    "            # Met la première lettre en majuscule et les autres en minuscules\n",
    "\n",
    "        tableau_organisations_ordonne_clean[column] = tableau_complet_ordonne_clean_column\n",
    "    elif column == \"Code postal\": # Transforme les codes postaux en entiers (retire le \".0\")\n",
    "        tableau_organisations_ordonne_clean[column] = tableau_organisations_colonnes[column].astype(\"int\")\n",
    "    else:\n",
    "        tableau_organisations_ordonne_clean[column] = tableau_organisations_colonnes[column]\n"
   ]
  },
  {
   "cell_type": "code",
   "execution_count": null,
   "metadata": {},
   "outputs": [],
   "source": [
    "tableau_organisations_ordonne_clean.head(2)"
   ]
  },
  {
   "cell_type": "markdown",
   "metadata": {},
   "source": [
    "### Sélection des organisations dupliquées"
   ]
  },
  {
   "cell_type": "markdown",
   "metadata": {},
   "source": [
    "Pour chaque organisation dupliquée (même nom, même adresse), stocker les infos et fusionner la liste de catégories et fusionner les services."
   ]
  },
  {
   "cell_type": "markdown",
   "metadata": {},
   "source": [
    "Obtention de la liste des organisations dupliquées"
   ]
  },
  {
   "cell_type": "code",
   "execution_count": null,
   "metadata": {},
   "outputs": [],
   "source": [
    "masque_orga_dupliquee = tableau_organisations_ordonne_clean.duplicated([\"Nom\", \"adresse\"], keep=\"first\")\n",
    "tableau_pour_orga_dupliquee_all = tableau_organisations_ordonne_clean[masque_orga_dupliquee]\n",
    "nom_organisations_dupliquees = tableau_pour_orga_dupliquee_all.Nom"
   ]
  },
  {
   "cell_type": "markdown",
   "metadata": {},
   "source": [
    "Concaténation des services dans une seule cellule (idem pour les catégories)."
   ]
  },
  {
   "cell_type": "code",
   "execution_count": null,
   "metadata": {},
   "outputs": [],
   "source": [
    "valeurs_pour_orgas_dedupliquees = pandas.DataFrame({}, columns=tableau_organisations_colonnes.columns)\n",
    "\n",
    "liste_d_index_dupliques_et_geres = []\n",
    "\n",
    "liste_de_valeurs_pour_orgas_dedupliquees = []\n",
    "\n",
    "for organisation in nom_organisations_dupliquees:    \n",
    "    # Sélection des lignes correspondant à une seule organisation (dont on sait qu'elle est dupliquée)\n",
    "    masque_organisation_est_dupliquee = tableau_organisations_colonnes.Nom == organisation\n",
    "    tableau_pour_orga_dupliquee = tableau_organisations_ordonne_clean[masque_organisation_est_dupliquee]\n",
    "        \n",
    "    # Conservation en mémoire des lignes qui sont dans le tableau des organisations dupliquées\n",
    "    for index in tableau_pour_orga_dupliquee.index.values:\n",
    "        liste_d_index_dupliques_et_geres.append(index)\n",
    "\n",
    "    # Concaténation de la liste de services\n",
    "    liste_de_services = []\n",
    "    for service in tableau_pour_orga_dupliquee[\"Texte complémentaire Codelico\"]:  \n",
    "        liste_de_services.append(str(service) + \"///\") \n",
    "        \n",
    "    # Concaténation de la liste de catégories\n",
    "    liste_de_categories = []\n",
    "    liste_de_categories_dupliquees = []\n",
    "    for categories in tableau_pour_orga_dupliquee[\"Liste de catégories\"]:\n",
    "        categories = str(categories)\n",
    "        liste_de_categories_pour_cette_orga_a_nettoyer = categories.split(\", \")\n",
    "        \n",
    "        liste_de_categories_dupliquees_pour_cette_orga = []\n",
    "        for categorie_a_nettoyer in liste_de_categories_pour_cette_orga_a_nettoyer:\n",
    "            \n",
    "            categorie = re.sub(r\" *$\", \"\", re.sub(r\"^ *\", \"\", categorie_a_nettoyer))\n",
    "        \n",
    "            liste_de_categories_dupliquees_pour_cette_orga.append(categorie)\n",
    "              \n",
    "        liste_de_categories_dupliquees += liste_de_categories_dupliquees_pour_cette_orga        \n",
    "    liste_de_categories = list(set(liste_de_categories_dupliquees))\n",
    "    \n",
    "    # Pour une orga dupliquée, sélection d'une seule ligne, peu importe les valeurs de service et catégories\n",
    "    valeurs_pour_orga = tableau_pour_orga_dupliquee.head(1)\n",
    "    \n",
    "    # Stockage de la liste des services et de la liste des catégories dans cette ligne\n",
    "    valeurs_pour_orga[\"Liste de catégories\"] = \", \".join(liste_de_categories)\n",
    "    valeurs_pour_orga[\"Texte complémentaire Codelico\"] = \", \".join(liste_de_services)\n",
    "        \n",
    "    # Ajout de la ligne avec les services concaténés et catégories concaténées dans un tableau\n",
    "    liste_de_valeurs_pour_orgas_dedupliquees.append(valeurs_pour_orga)\n",
    "\n",
    "valeurs_pour_orgas_dedupliquees = pandas.concat(liste_de_valeurs_pour_orgas_dedupliquees).drop_duplicates()"
   ]
  },
  {
   "cell_type": "markdown",
   "metadata": {},
   "source": [
    "### Sélection des lignes des organisations non dupliquées\n",
    "\n",
    "Il s'agit de toutes les autres lignes que celles dont l'indice a été vu dans la gestion des organisations dupliquées."
   ]
  },
  {
   "cell_type": "code",
   "execution_count": null,
   "metadata": {},
   "outputs": [],
   "source": [
    "valeurs_pour_orgas_non_dupliquees = tableau_organisations_ordonne_clean[tableau_organisations_colonnes.columns].drop(liste_d_index_dupliques_et_geres)"
   ]
  },
  {
   "cell_type": "markdown",
   "metadata": {},
   "source": [
    "### Création d'un tableau avec les organisations non dupliquées et les organisations dupliquées"
   ]
  },
  {
   "cell_type": "code",
   "execution_count": null,
   "metadata": {},
   "outputs": [],
   "source": [
    "valeurs_pour_orgas = valeurs_pour_orgas_dedupliquees.append(valeurs_pour_orgas_non_dupliquees)"
   ]
  },
  {
   "cell_type": "markdown",
   "metadata": {},
   "source": [
    "Ce tableau contient une ligne par organisation, avec les services placés dans une seule cellule. Idem pour les catégories."
   ]
  },
  {
   "cell_type": "markdown",
   "metadata": {},
   "source": [
    "Dans un premier temps, l'import ne fonctionne pas."
   ]
  },
  {
   "cell_type": "markdown",
   "metadata": {},
   "source": [
    "## Normalisation des codes postaux à une valeur unique par ville\n",
    "\n",
    "Communecter ne supporte pas actuellement les codes postaux avec le niveau de précision donné par la mairie (présence du cedex dans le code ?).\n",
    "\n",
    "Pour chaque ville, un code postal est associé."
   ]
  },
  {
   "cell_type": "code",
   "execution_count": null,
   "metadata": {},
   "outputs": [],
   "source": [
    "liste_de_villes = valeurs_pour_orgas[[\"Ville\"]].sort_values(by=\"Ville\").drop_duplicates()"
   ]
  },
  {
   "cell_type": "markdown",
   "metadata": {},
   "source": [
    "Pour certaines villes, il y a plusieurs codes postaux"
   ]
  },
  {
   "cell_type": "code",
   "execution_count": null,
   "metadata": {},
   "outputs": [],
   "source": [
    "for ville in liste_de_villes.values:\n",
    "    masque_ville = valeurs_pour_orgas.Ville == ville[0]\n",
    "    print(ville, list(set(valeurs_pour_orgas[masque_ville][\"Code postal\"].values)))"
   ]
  },
  {
   "cell_type": "markdown",
   "metadata": {},
   "source": [
    "remplacement du dernier chiffre par \"0\" pour retirre ce supplément d'information."
   ]
  },
  {
   "cell_type": "code",
   "execution_count": null,
   "metadata": {},
   "outputs": [],
   "source": [
    "for ville in liste_de_villes.values:\n",
    "    masque_ville = valeurs_pour_orgas.Ville == ville[0]\n",
    "    codes_postaux = list(set(valeurs_pour_orgas[masque_ville][\"Code postal\"].values))\n",
    "    if len(codes_postaux) > 1:        \n",
    "        codes_postaux_normalises = []\n",
    "        for code_postal in codes_postaux:\n",
    "            codes_postaux_normalises.append(re.sub(r\".$\", \"0\", str(code_postal)))\n",
    "        print(ville, list(set(codes_postaux_normalises)))"
   ]
  },
  {
   "cell_type": "markdown",
   "metadata": {},
   "source": [
    "Seule la ville de Strasbourg a d'autres précisions au niveau de l'avant dernier chiffre"
   ]
  },
  {
   "cell_type": "code",
   "execution_count": null,
   "metadata": {},
   "outputs": [],
   "source": [
    "for ville in liste_de_villes.values:\n",
    "    masque_ville = valeurs_pour_orgas.Ville == ville[0]\n",
    "    codes_postaux = list(set(valeurs_pour_orgas[masque_ville][\"Code postal\"].values))\n",
    "    if len(codes_postaux) > 1:        \n",
    "        codes_postaux_normalises = []\n",
    "        for code_postal in codes_postaux:\n",
    "            codes_postaux_normalises.append(re.sub(r\"..$\", \"00\", str(code_postal)))\n",
    "        print(ville, list(set(codes_postaux_normalises)))"
   ]
  },
  {
   "cell_type": "markdown",
   "metadata": {},
   "source": [
    "Remplacement dans le tableau de données"
   ]
  },
  {
   "cell_type": "code",
   "execution_count": null,
   "metadata": {},
   "outputs": [],
   "source": [
    "valeurs_pour_orgas[\"Code postal\"] = valeurs_pour_orgas[\"Code postal\"].astype(\"str\").str.replace(r\"..$\", \"00\")"
   ]
  },
  {
   "cell_type": "code",
   "execution_count": null,
   "metadata": {},
   "outputs": [],
   "source": [
    "valeurs_pour_orgas.head().tail(1)[\"Texte complémentaire Codelico\"].values"
   ]
  },
  {
   "cell_type": "markdown",
   "metadata": {},
   "source": [
    "Écriture du fichier"
   ]
  },
  {
   "cell_type": "code",
   "execution_count": null,
   "metadata": {},
   "outputs": [],
   "source": [
    "valeurs_pour_orgas.to_csv(\"../donnees-welcome-guide/une-organisation-services-concatenes.csv\", sep=\";\", index=None)"
   ]
  },
  {
   "cell_type": "markdown",
   "metadata": {},
   "source": [
    "Versionnement et mise à disposition sur github"
   ]
  },
  {
   "cell_type": "code",
   "execution_count": null,
   "metadata": {},
   "outputs": [],
   "source": [
    "!git add ../donnees-welcome-guide/une-organisation-services-concatenes.csv && git commit -m \"Met à jour les données traitées\""
   ]
  },
  {
   "cell_type": "markdown",
   "metadata": {},
   "source": [
    "## Import dans Communecter"
   ]
  },
  {
   "cell_type": "markdown",
   "metadata": {},
   "source": [
    "Via admin public avec mon compte.\n",
    "\n",
    "Conversion du CSV vers le JSON validé"
   ]
  },
  {
   "cell_type": "markdown",
   "metadata": {},
   "source": [
    "![](../images/config-admin-public-codelicoconcatene20190622.png)"
   ]
  },
  {
   "cell_type": "code",
   "execution_count": null,
   "metadata": {},
   "outputs": [],
   "source": [
    "clef = \"codelicoconcatene20190622\""
   ]
  },
  {
   "cell_type": "markdown",
   "metadata": {},
   "source": [
    "Import du JSON validé."
   ]
  },
  {
   "cell_type": "markdown",
   "metadata": {},
   "source": [
    "Le fichier est dans une archive zip"
   ]
  },
  {
   "cell_type": "code",
   "execution_count": null,
   "metadata": {},
   "outputs": [],
   "source": [
    "!ls ../donnees-welcome-guide/une-organisation-services-concatenes_Import.zip"
   ]
  },
  {
   "cell_type": "code",
   "execution_count": null,
   "metadata": {},
   "outputs": [],
   "source": [
    "!unzip ../donnees-welcome-guide/une-organisation-services-concatenes_Import.zip -d ../donnees-welcome-guide/"
   ]
  },
  {
   "cell_type": "code",
   "execution_count": null,
   "metadata": {},
   "outputs": [],
   "source": [
    "import json"
   ]
  },
  {
   "cell_type": "code",
   "execution_count": null,
   "metadata": {},
   "outputs": [],
   "source": [
    "dictionnaire_pret_a_importer = json.load(open(\"../donnees-welcome-guide/une-organisation-services-concatenes_StandardForCommunecter.json\", 'r'))"
   ]
  },
  {
   "cell_type": "code",
   "execution_count": null,
   "metadata": {},
   "outputs": [],
   "source": [
    "len(dictionnaire_pret_a_importer)"
   ]
  },
  {
   "cell_type": "code",
   "execution_count": null,
   "metadata": {},
   "outputs": [],
   "source": []
  }
 ],
 "metadata": {
  "kernelspec": {
   "display_name": "Python 3",
   "language": "python",
   "name": "python3"
  },
  "language_info": {
   "codemirror_mode": {
    "name": "ipython",
    "version": 3
   },
   "file_extension": ".py",
   "mimetype": "text/x-python",
   "name": "python",
   "nbconvert_exporter": "python",
   "pygments_lexer": "ipython3"
  }
 },
 "nbformat": 4,
 "nbformat_minor": 2
}
